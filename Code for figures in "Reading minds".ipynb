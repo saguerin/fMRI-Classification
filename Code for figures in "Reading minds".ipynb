{
 "cells": [
  {
   "cell_type": "markdown",
   "metadata": {},
   "source": [
    "# Where you can find the code"
   ]
  },
  {
   "cell_type": "markdown",
   "metadata": {},
   "source": [
    "* This notebook provides code for plotting of all the figures in \"Reading minds\"\n",
    "\n",
    "* The code that ran the machine learning analysis that is plotted here can be found in run_2d_example_port2.py in the gitub repository.\n",
    "\n",
    "* The core functions used to apply machine learning analysis to neuroimaging data can be found in SML_mvpa_scripts.py in the github repository."
   ]
  },
  {
   "cell_type": "code",
   "execution_count": 12,
   "metadata": {
    "collapsed": false
   },
   "outputs": [],
   "source": [
    "import pandas as pd\n",
    "import numpy as np\n",
    "import matplotlib\n",
    "import matplotlib.pyplot as plt \n",
    "import seaborn as sns\n",
    "sns.set_style('ticks')"
   ]
  },
  {
   "cell_type": "code",
   "execution_count": 13,
   "metadata": {
    "collapsed": true
   },
   "outputs": [],
   "source": [
    "subject = 'am103'\n",
    "data_dir = '/Users/sguerin/Dropbox/Stan_Server_Dropbox/portfolio_project/plotting_data'"
   ]
  },
  {
   "cell_type": "markdown",
   "metadata": {},
   "source": [
    "# Fig. 1. 2D representation of decoding faces and scenes during encoding"
   ]
  },
  {
   "cell_type": "code",
   "execution_count": 17,
   "metadata": {
    "collapsed": false
   },
   "outputs": [],
   "source": [
    "# Load the data\n",
    "twoD_enc_coef_df = pd.read_csv('{}/twoD_enc_coef_df_{}.csv'.format(data_dir, subject), index_col=0)\n",
    "twoD_enc_df = pd.read_csv('{}/twoD_enc_df_{}.csv'.format(data_dir, subject), index_col=0)\n",
    "\n",
    "twoD_enc_df.replace({'Picture Type': {'WF': 'Face', 'WP':'Place'}}, inplace=True)\n",
    "\n",
    "# For rearranging we need to trial # to be unique by combining information with test run.\n",
    "# Easiest way to do this is to code test run to the left of a decimal and trial # to the right of the decimanl\n",
    "twoD_enc_df['Trial #'] = twoD_enc_df['Test Run'] + (twoD_enc_df['Trial #'] / 100)\n",
    "\n",
    "# Rearrange for plotting with seaborn\n",
    "pivot_df = pd.DataFrame.pivot(twoD_enc_df, index='Trial #', columns='Voxel Type', values='Mean Signal').reset_index()\n",
    "reduced_df = twoD_enc_df.drop(['Voxel Type', 'Mean Signal'], axis=1).drop_duplicates()\n",
    "twoD_enc_plot_df = pd.merge(pivot_df, reduced_df, how='inner', on='Trial #')\n"
   ]
  },
  {
   "cell_type": "code",
   "execution_count": 18,
   "metadata": {
    "collapsed": false
   },
   "outputs": [],
   "source": [
    "# Create a vector to represent the decison bound for the model in each cross-validation fold for plotting\n",
    "# y = -(B1*x) / B2 when logit = 0 and thus p = .5\n",
    "bound_df_list = list()\n",
    "\n",
    "for run in range(5):\n",
    "    B1 = twoD_enc_coef_df.loc[run, 'B1']\n",
    "    B2 = twoD_enc_coef_df.loc[run, 'B2']\n",
    "\n",
    "    x = np.linspace(-.5, .5, 25)\n",
    "    y = (-1 * B1 * x) / B2\n",
    "    \n",
    "    bound_df_list.append(pd.DataFrame({'x' : x, 'y' : y}))"
   ]
  },
  {
   "cell_type": "code",
   "execution_count": 36,
   "metadata": {
    "collapsed": false
   },
   "outputs": [],
   "source": [
    "g = sns.lmplot(data=twoD_enc_plot_df, x='Face Voxels', y='Scene Voxels', hue='Picture Type', fit_reg=False,\n",
    "               legend=False)\n",
    "g.add_legend(label_order=['Place', 'Face'])\n",
    "for run in range(5):\n",
    "    plt.plot(bound_df_list[run].x, bound_df_list[run].y, color='black', alpha=.25)\n",
    "\n",
    "plt.xlabel('Activity in Face Brain Regions')\n",
    "plt.ylabel('Activity in Place Brain Regions')\n",
    "plt.xlim(-1.5,1.5) # to help legend fit\n",
    "plt.ylim(-1,1)\n",
    "plt.savefig('Fig1.png', dpi=300, bbox_inches='tight')"
   ]
  },
  {
   "cell_type": "markdown",
   "metadata": {
    "collapsed": true
   },
   "source": [
    "# Fig. 2. 2D representation of decoding faces and scenes during recall"
   ]
  },
  {
   "cell_type": "code",
   "execution_count": 9,
   "metadata": {
    "collapsed": false
   },
   "outputs": [],
   "source": [
    "# Load the data\n",
    "twoD_recall_coef_df = pd.read_csv('{}/twoD_recall_coef_df_{}.csv'.format(data_dir, subject), index_col=0)\n",
    "twoD_recall_df = pd.read_csv('{}/twoD_recall_df_{}.csv'.format(data_dir, subject), index_col=0)\n",
    "\n",
    "twoD_recall_df.replace({'Picture Type': {'WF': 'Face', 'WP':'Place'}}, inplace=True)\n",
    "\n",
    "# Rearrange for plotting with seaborn\n",
    "pivot_df = pd.DataFrame.pivot(twoD_recall_df, index='Trial #', columns='Voxel Type', values='Mean Signal').reset_index()\n",
    "reduced_df = twoD_recall_df.drop(['Voxel Type', 'Mean Signal'], axis=1).drop_duplicates()\n",
    "twoD_recall_plot_df = pd.merge(pivot_df, reduced_df, how='inner', on='Trial #')"
   ]
  },
  {
   "cell_type": "code",
   "execution_count": 10,
   "metadata": {
    "collapsed": false
   },
   "outputs": [],
   "source": [
    "# Create a vector to represent the decison bound for the model in each cross-validation fold for plotting\n",
    "# y = -(B1*x) / B2 when logit = 0 and thus p = .5\n",
    "twoD_recall_coef_df\n",
    "\n",
    "bound_df_list = list()\n",
    "\n",
    "run = 0\n",
    "\n",
    "B1 = twoD_recall_coef_df.loc[run, 'B1']\n",
    "B2 = twoD_recall_coef_df.loc[run, 'B2']\n",
    "\n",
    "x = np.linspace(-.5, .5, 25)\n",
    "y = (-1 * B1 * x) / B2\n",
    "\n",
    "bound_df_list.append(pd.DataFrame({'x' : x, 'y' : y}))"
   ]
  },
  {
   "cell_type": "code",
   "execution_count": 35,
   "metadata": {
    "collapsed": false
   },
   "outputs": [],
   "source": [
    "g = sns.lmplot(data=twoD_recall_plot_df, x='Face Voxels', y='Scene Voxels', hue='Picture Type', fit_reg=False, \n",
    "               legend=False)\n",
    "g.add_legend(label_order=['Place', 'Face'])\n",
    "\n",
    "run = 0\n",
    "plt.plot(bound_df_list[run].x, bound_df_list[run].y, color='black', alpha=.25)\n",
    "\n",
    "plt.xlabel('Face Brain Regions')\n",
    "plt.ylabel('Place Brain Regions')\n",
    "plt.xlim(-1.5,1.5) # to help legend fit\n",
    "plt.ylim(-1,1)\n",
    "plt.savefig('Fig2.png', dpi=300, bbox_inches='tight')"
   ]
  },
  {
   "cell_type": "markdown",
   "metadata": {},
   "source": [
    "# Figure 3: Correlating memory performance with classifier performance"
   ]
  },
  {
   "cell_type": "code",
   "execution_count": 70,
   "metadata": {
    "collapsed": false
   },
   "outputs": [],
   "source": [
    "# Import data from from the 1000D model\n",
    "grandD_recall_auc_df = pd.read_csv('{}/grandD_recall_df.csv'.format(data_dir), index_col=0)\n",
    "grandD_recall_auc_df = grandD_recall_auc_df.rename(columns={'AUC':'Model Performance'})\n",
    "\n",
    "# Import behavioral data\n",
    "temp_df = pd.read_csv('{}/usable_metrics_and_beh_basics.csv'.format(data_dir), index_col=0)\n",
    "beh_df = temp_df.loc[:, ['am_num', 'age', 'dprime_all']]\n",
    "beh_df.rename(columns={'dprime_all':'Memory Performance'}, inplace=True)\n",
    "merged_df = grandD_recall_auc_df.merge(beh_df, left_on='Subject', right_on='am_num', how='inner')\n",
    "\n",
    "g = sns.lmplot(data=merged_df, x='Model Performance', y='Memory Performance', fit_reg=True)\n",
    "plt.savefig('Fig3.png', dpi=300, bbox_inches='tight')"
   ]
  },
  {
   "cell_type": "markdown",
   "metadata": {},
   "source": [
    "# Figure 4: Correlating age with memory performance"
   ]
  },
  {
   "cell_type": "code",
   "execution_count": 87,
   "metadata": {
    "collapsed": false
   },
   "outputs": [],
   "source": [
    "g = sns.lmplot(data=merged_df, x='age', y='Memory Performance', fit_reg=True)\n",
    "plt.xlabel('Age')\n",
    "plt.savefig('Fig4.png', dpi=300, bbox_inches='tight')"
   ]
  },
  {
   "cell_type": "markdown",
   "metadata": {},
   "source": [
    "# Figure 5:  Correlating memory performance with classifier performance after removing all variance attributable to age."
   ]
  },
  {
   "cell_type": "code",
   "execution_count": 85,
   "metadata": {
    "collapsed": false
   },
   "outputs": [],
   "source": [
    "g = sns.lmplot(data=merged_df, x='Model Performance', y='Memory Performance', fit_reg=True,\n",
    "              x_partial='age', y_partial='age')\n",
    "plt.savefig('Fig5.png', dpi=300, bbox_inches='tight')"
   ]
  }
 ],
 "metadata": {
  "kernelspec": {
   "display_name": "Python 2",
   "language": "python",
   "name": "python2"
  },
  "language_info": {
   "codemirror_mode": {
    "name": "ipython",
    "version": 2
   },
   "file_extension": ".py",
   "mimetype": "text/x-python",
   "name": "python",
   "nbconvert_exporter": "python",
   "pygments_lexer": "ipython2",
   "version": "2.7.12"
  }
 },
 "nbformat": 4,
 "nbformat_minor": 2
}
